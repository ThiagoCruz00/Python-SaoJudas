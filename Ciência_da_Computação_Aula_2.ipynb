{
  "nbformat": 4,
  "nbformat_minor": 0,
  "metadata": {
    "colab": {
      "provenance": [],
      "include_colab_link": true
    },
    "kernelspec": {
      "name": "python3",
      "display_name": "Python 3"
    },
    "language_info": {
      "name": "python"
    }
  },
  "cells": [
    {
      "cell_type": "markdown",
      "metadata": {
        "id": "view-in-github",
        "colab_type": "text"
      },
      "source": [
        "<a href=\"https://colab.research.google.com/github/ThiagoCruz00/Python-SaoJudas/blob/1%C2%B0Semestre/Ci%C3%AAncia_da_Computa%C3%A7%C3%A3o_Aula_2.ipynb\" target=\"_parent\"><img src=\"https://colab.research.google.com/assets/colab-badge.svg\" alt=\"Open In Colab\"/></a>"
      ]
    },
    {
      "cell_type": "markdown",
      "source": [
        "# *Algoritmo:*"
      ],
      "metadata": {
        "id": "mo57iBO-FHHS"
      }
    },
    {
      "cell_type": "code",
      "execution_count": null,
      "metadata": {
        "id": "2mZMqNupDGDl"
      },
      "outputs": [],
      "source": [
        "#Aula 1\n",
        "\n",
        "# Algoritmos:\n",
        "# Na aula de hoje, vamos aprender o conceito de algoritmo.\n",
        "\n",
        "#Tutorial de como fazer um café no coador:\n",
        "\n",
        "#Utensilios necessários:\n",
        "\n",
        "# Chaleira\n",
        "# Colher\n",
        "# Coador\n",
        "# Filtro de Café\n",
        "# Pó de Café\n",
        "# Garrafa de Café\n",
        "\n",
        "# Receita:\n",
        "\n",
        "#1. Pegar chaleira\n",
        "#2. Ir até a torneira da cozinha\n",
        "#3. Encher até a metade da chaleira (Considerando que a chaleira contem 800ml)\n",
        "#4. Levar a chaleira até o fogão\n",
        "#5. Ligou o Gás? Se sim, colocar a chaleira na bocão do fogão e colocar em fogo médio. Não? Ir ligar o Gás\n",
        "#6. Enquanto o a chaleira esquenta, pegar a garrafa de café\n",
        "#7. Após isso pegar o coador, e dele colocar o filtro de café aberto, preenchendo todo o coador\n",
        "#8. Colocar o coador preparado em cima com a parte do furo mirado para dentro da garrafa da garrafa de café\n",
        "#9. Após isso pegar em um pote o pó de café\n",
        "#10. Pegar uma colher de sopa de dentro da gaveta.\n",
        "#11. Colocar a colher dentro do pote, e recolher o pó de café duas vezes (Colheres cheias) e levar para dentro do Coador\n",
        "#12. Após esse processo (provavelmente a chaleira estará com a água quente), pegar a Chaleira com cuidado\n",
        "#13. E em movimentos ciruclares derramar a água quente sobre o pó de café, tomar cuidado para não colocar demais e acabar vazando\n",
        "#14. Após acabar com a água de dentro da chaleira. Esperar ela esfriar e guarda-la\n",
        "#15. Retirar o Coador de cima da garrafa.\n",
        "#16. Pegar a tampa da garrafa de café, e fecha-la\n",
        "#17. Pegar um copo\n",
        "#18. Abrir a garrafa de café, e despejar o café dentro do copo"
      ]
    },
    {
      "cell_type": "code",
      "source": [
        "calculadora  =input(\"Escolha uma função: Adição, Subtração, Multiplicação, Divisão: \")\n",
        "\n",
        "a = int(input(\"Digite o primeiro número: \"))\n",
        "b = int(input(\"Digite o segundo número: \"))\n",
        "\n",
        "\n",
        "if calculadora == \"Adição\" :\n",
        "    resultado = a + b\n",
        "elif calculadora == \"Subtração\" :\n",
        "    resultado = a - b\n",
        "elif calculadora == \"Multiplicação\" :\n",
        "    resultado = a * b\n",
        "elif calculadora == \"Divisão\" :\n",
        "    resultado = a / b\n",
        "else:\n",
        "    print(\"Você é burro!?\")\n",
        "\n",
        "\n",
        "\n",
        "print(f\"Resultado é: {resultado}\")\n"
      ],
      "metadata": {
        "colab": {
          "base_uri": "https://localhost:8080/"
        },
        "id": "G0YXp9mRHJBR",
        "outputId": "733d1438-5fae-42b9-8349-24dd68e641dd"
      },
      "execution_count": null,
      "outputs": [
        {
          "output_type": "stream",
          "name": "stdout",
          "text": [
            "Escolha uma função: Adição, Subtração, Multiplicação, Divisão: aodpa\n",
            "Digite o primeiro número: 2\n",
            "Digite o segundo número: 2\n",
            "Você é burro!?\n",
            "Resultado é: 5\n"
          ]
        }
      ]
    },
    {
      "cell_type": "code",
      "source": [
        "# Escreva um código que receba o nome e a idade de um usuário. Programa deve devolver um texto:\n",
        "# Olá XXXX, boa noite, você provavelmente nasceu em XXXX! Boa Aula!\n",
        "\n",
        "nome = input(\"Digite seu nome: \")\n",
        "idade = int(input(\"Digite sua idade: \"))\n",
        "\n",
        "data_nasceu = 2025 - idade\n",
        "\n",
        "\n",
        "print(f\"Olá {nome}, Boa noite!, você provavelmente nasceu em {data_nasceu}! Boa Aula!\")"
      ],
      "metadata": {
        "colab": {
          "base_uri": "https://localhost:8080/"
        },
        "id": "R2TwQkUwPC_t",
        "outputId": "7e46fea5-66bf-48a7-80d8-d94c90500740"
      },
      "execution_count": null,
      "outputs": [
        {
          "output_type": "stream",
          "name": "stdout",
          "text": [
            "Digite seu nome: Thiago\n",
            "Digite sua idade:  90\n",
            "Olá , Boa noite!, você provavelmente nasceu em 1935! Boa Aula!\n"
          ]
        }
      ]
    },
    {
      "cell_type": "code",
      "source": [
        "altura = float(input(\"Digite a sua altura?:\"))\n",
        "\n",
        "\n",
        "if altura >= 1.75 :\n",
        "    print(\"Você é alto!\")\n",
        "elif altura >= 1.60 :\n",
        "    print(\"Você é médio!\")\n",
        "else:\n",
        "    print(\"Você é baixo!\")\n",
        "\n",
        "print(f\"Sua altura é {altura}\")"
      ],
      "metadata": {
        "colab": {
          "base_uri": "https://localhost:8080/"
        },
        "id": "b2850se9dOo4",
        "outputId": "531bf46f-8a10-4122-ce5c-5dd5f8b61866"
      },
      "execution_count": null,
      "outputs": [
        {
          "output_type": "stream",
          "name": "stdout",
          "text": [
            "Digite a sua altura?:1.67\n",
            "Você é médio!\n",
            "Sua altura é 1.67\n"
          ]
        }
      ]
    },
    {
      "cell_type": "code",
      "source": [
        "# Como calcular raiz quadrada\n",
        "num = int(input(\"Digite um número: \"))\n",
        "\n",
        "raiz = num ** 0.5\n",
        "\n",
        "print(f\"A raiz quadrada de {num} é {raiz}\")\n"
      ],
      "metadata": {
        "colab": {
          "base_uri": "https://localhost:8080/"
        },
        "id": "0x6_sQUUfL0T",
        "outputId": "0b138fd1-a901-4537-e553-4f87829278ec"
      },
      "execution_count": null,
      "outputs": [
        {
          "output_type": "stream",
          "name": "stdout",
          "text": [
            "Digite um número: 49\n",
            "A raiz quadrada de 49 é 7.0\n"
          ]
        }
      ]
    }
  ]
}