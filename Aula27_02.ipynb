{
  "nbformat": 4,
  "nbformat_minor": 0,
  "metadata": {
    "colab": {
      "provenance": [],
      "authorship_tag": "ABX9TyPpefIU4g9DZSUz2NvdBF4P",
      "include_colab_link": true
    },
    "kernelspec": {
      "name": "python3",
      "display_name": "Python 3"
    },
    "language_info": {
      "name": "python"
    }
  },
  "cells": [
    {
      "cell_type": "markdown",
      "metadata": {
        "id": "view-in-github",
        "colab_type": "text"
      },
      "source": [
        "<a href=\"https://colab.research.google.com/github/ThiagoCruz00/Python-SaoJudas/blob/1%C2%B0Semestre/Aula27_02.ipynb\" target=\"_parent\"><img src=\"https://colab.research.google.com/assets/colab-badge.svg\" alt=\"Open In Colab\"/></a>"
      ]
    },
    {
      "cell_type": "code",
      "execution_count": null,
      "metadata": {
        "colab": {
          "base_uri": "https://localhost:8080/"
        },
        "id": "Qk9BMJoOd1G1",
        "outputId": "0c905bdc-52bf-42c0-f3b7-62d78e0c6f5a"
      },
      "outputs": [
        {
          "output_type": "stream",
          "name": "stdout",
          "text": [
            "Qual o seu nome: \n",
            "Thiago\n",
            "\n",
            "Seja bem-vindo Thiago\n"
          ]
        }
      ],
      "source": [
        "nome = input(\"Qual o seu nome: \\n\")\n",
        "print(f\"\\nSeja bem-vindo {nome}\")"
      ]
    },
    {
      "cell_type": "code",
      "source": [
        "idade = int(input(\"Qual a sua idade: \\n\"))\n",
        "\n",
        "if (idade >= 18):\n",
        "    print(f\"\\nVocê é de maior\")\n",
        "else:\n",
        "    print(f\"\\nVocê é novinho safado\")"
      ],
      "metadata": {
        "colab": {
          "base_uri": "https://localhost:8080/"
        },
        "id": "fyJLROBmhNEd",
        "outputId": "a02a4cbf-4ec5-46c5-82a3-6a34c63e90d5"
      },
      "execution_count": null,
      "outputs": [
        {
          "output_type": "stream",
          "name": "stdout",
          "text": [
            "Qual a sua idade: \n",
            "10\n",
            "\n",
            "Você é novinho safado\n"
          ]
        }
      ]
    },
    {
      "cell_type": "code",
      "source": [
        "i = 0\n",
        "\n",
        "while(i < 10):\n",
        "    print(f\"Estamos na interação {i}\")\n",
        "    i += 1\n",
        "print(\"Acabou...\")"
      ],
      "metadata": {
        "colab": {
          "base_uri": "https://localhost:8080/"
        },
        "id": "Kykm7gCMio4Y",
        "outputId": "a02150bd-6d59-43f6-b550-bc3f79bf0481"
      },
      "execution_count": null,
      "outputs": [
        {
          "output_type": "stream",
          "name": "stdout",
          "text": [
            "Estamos na interação 0\n",
            "Estamos na interação 1\n",
            "Estamos na interação 2\n",
            "Estamos na interação 3\n",
            "Estamos na interação 4\n",
            "Estamos na interação 5\n",
            "Estamos na interação 6\n",
            "Estamos na interação 7\n",
            "Estamos na interação 8\n",
            "Estamos na interação 9\n",
            "Acabou...\n"
          ]
        }
      ]
    },
    {
      "cell_type": "code",
      "source": [
        "a = 0\n",
        "\n",
        "for a in range(100):\n",
        "    print(f\"Estamos na interação {a}\")\n",
        "print(\"Acabou...\")"
      ],
      "metadata": {
        "id": "CMK9dK-ck-3y"
      },
      "execution_count": null,
      "outputs": []
    },
    {
      "cell_type": "code",
      "source": [
        "lista = [\"feijão\",\"cabra\",\"branco\",\"amarelo\",\"preto\"]\n",
        "quantidade = 0\n",
        "\n",
        "for item in lista:\n",
        "    print(f\"Tenho que comprar {item}\")\n",
        "    quantidade += 1\n",
        "print(f\"Tenho que comprar {quantidade} itens\")\n",
        "print(f\"Tenho que comprar {len(lista)} itens\")"
      ],
      "metadata": {
        "colab": {
          "base_uri": "https://localhost:8080/"
        },
        "id": "NfCzqidElebC",
        "outputId": "77e5ce81-71c7-4a98-e905-1ad7774dde30"
      },
      "execution_count": null,
      "outputs": [
        {
          "output_type": "stream",
          "name": "stdout",
          "text": [
            "Tenho que comprar feijão\n",
            "Tenho que comprar cabra\n",
            "Tenho que comprar branco\n",
            "Tenho que comprar amarelo\n",
            "Tenho que comprar preto\n",
            "Tenho que comprar 5 itens\n",
            "Tenho que comprar 5 itens\n"
          ]
        }
      ]
    },
    {
      "cell_type": "code",
      "source": [
        "pergunta = str(input(\"Qual animal você quer saber a quantidade: \\n\"))\n",
        "\n",
        "animais = {\n",
        "    \"cachorro\": 4,\n",
        "    \"gato\": 1,\n",
        "    \"camelo\": 5,\n",
        "    \"elefante\": 4,\n",
        "    \"girafa\": 4,\n",
        "    \"formiga\": 6,\n",
        "    \"aranha\": 8,\n",
        "    \"pato\": 2\n",
        "}\n",
        "\n",
        "if (pergunta in animais):\n",
        "    print(f\"Temos {animais[pergunta]}\")\n",
        "else:\n",
        "    print(\"Animal não encontrado\")\n"
      ],
      "metadata": {
        "colab": {
          "base_uri": "https://localhost:8080/"
        },
        "id": "eeFuWdEim-gS",
        "outputId": "f0d8aec2-9920-419c-d6f8-7cbda498959f"
      },
      "execution_count": null,
      "outputs": [
        {
          "output_type": "stream",
          "name": "stdout",
          "text": [
            "Qual animal você quer saber a quantidade: \n",
            "gato\n",
            "Temos 1\n"
          ]
        }
      ]
    },
    {
      "cell_type": "code",
      "source": [
        "def saudacao_inicial(nome):\n",
        "    return f\"Seja Bem-Vindo {nome}\"\n",
        "\n",
        "sds = saudacao_inicial(\"Thiago\")\n",
        "\n",
        "print(sds)"
      ],
      "metadata": {
        "colab": {
          "base_uri": "https://localhost:8080/"
        },
        "id": "4L82h7-cpG_6",
        "outputId": "a6338759-75d4-4def-f196-08e29d27f800"
      },
      "execution_count": null,
      "outputs": [
        {
          "output_type": "stream",
          "name": "stdout",
          "text": [
            "Seja Bem-Vindo Thiago\n"
          ]
        }
      ]
    },
    {
      "cell_type": "code",
      "source": [
        "nome = input(\"Qual o seu nome: \\n\")\n",
        "idade = int(input(\"Qual a sua idade: \\n\"))  ''\n",
        "\n",
        "def idade_passada(idade):\n",
        "    sub = idade - 10\n",
        "    if sub < 18:\n",
        "        print(f\"Olá {nome}, há Dez anos atrás você tinha {sub} e você era de menor\")\n",
        "    else:\n",
        "        print(f\"Olá {nome}, há Dez anos atrás você tinha {sub} e você era de maior\")\n",
        "\n",
        "idade_passada(idade)"
      ],
      "metadata": {
        "colab": {
          "base_uri": "https://localhost:8080/"
        },
        "id": "abDDmrqNqZzq",
        "outputId": "6ef54254-8ba6-4b28-9a73-b39092cc1f8c"
      },
      "execution_count": null,
      "outputs": [
        {
          "output_type": "stream",
          "name": "stdout",
          "text": [
            "Qual o seu nome: \n",
            "Thiago\n",
            "Qual a sua idade: \n",
            "30\n",
            "Olá Thiago, há Dez anos atrás você tinha 20 e você era de maior\n"
          ]
        }
      ]
    },
    {
      "cell_type": "code",
      "source": [
        "animais = {}\n",
        "\n",
        "def adicionar(nome, quantidade):\n",
        "    animais[nome] = quantidade\n",
        "\n",
        "i = 0\n",
        "while(i < 2):\n",
        "    nome = input(\"Qual animal você tem: \")\n",
        "    quantidade = int(input(\"Quantos tem: \"))\n",
        "    adicionar(nome, quantidade)\n",
        "    i += 1\n",
        "\n",
        "for animal, qtd in animais.items():\n",
        "    if qtd == 1:\n",
        "        print(f\"Temos {qtd} {animal}\")\n",
        "    else:\n",
        "        print(f\"Temos {qtd} {animal}s\")"
      ],
      "metadata": {
        "colab": {
          "base_uri": "https://localhost:8080/"
        },
        "id": "qigteRqTwMX9",
        "outputId": "991b4555-b3b0-4763-ed33-6d986d07f968"
      },
      "execution_count": null,
      "outputs": [
        {
          "output_type": "stream",
          "name": "stdout",
          "text": [
            "Qual animal você tem: 43\n",
            "Quantos tem: 4\n",
            "Qual animal você tem: 4\n",
            "Quantos tem: 4\n",
            "Temos 4 43s\n",
            "Temos 4 4s\n"
          ]
        }
      ]
    },
    {
      "cell_type": "code",
      "source": [
        "animais = {\n",
        "    \"cachorro\": 4,\n",
        "    \"gato\": 1,\n",
        "    \"camelo\": 5,\n",
        "    \"elefante\": 4,\n",
        "    \"girafa\": 4,\n",
        "    \"formiga\": 6,\n",
        "    \"aranha\": 8,\n",
        "    \"pato\": 2\n",
        "}\n",
        "\n",
        "def adicionar(animal_novo, qtde):\n",
        "    if animal_novo in animais:\n",
        "        animais[animal_novo] += qtde\n",
        "    else:\n",
        "        animais[animal_novo] = qtde\n",
        "\n",
        "animal_novo = input(\"Qual animal você quer adicionar: \\n\")\n",
        "qtde = int(input(\"Quantos você quer adicionar:  \\n\"))\n",
        "\n",
        "adicionar(animal_novo, qtde)\n",
        "\n",
        "print(\"\\nDicionário atualizado:\")\n",
        "for animal, qtd in animais.items():\n",
        "    print(f\"{animal}: {qtd}\")"
      ],
      "metadata": {
        "colab": {
          "base_uri": "https://localhost:8080/"
        },
        "id": "HhN6yITLy9A5",
        "outputId": "3b592445-4959-458c-da24-9eefec8925ee"
      },
      "execution_count": null,
      "outputs": [
        {
          "output_type": "stream",
          "name": "stdout",
          "text": [
            "Qual animal você quer adicionar: \n",
            "unicornio\n",
            "Quantos você quer adicionar:  \n",
            "30\n",
            "\n",
            "Dicionário atualizado:\n",
            "cachorro: 4\n",
            "gato: 1\n",
            "camelo: 5\n",
            "elefante: 4\n",
            "girafa: 4\n",
            "formiga: 6\n",
            "aranha: 8\n",
            "pato: 2\n",
            "unicornio: 30\n"
          ]
        }
      ]
    }
  ]
}