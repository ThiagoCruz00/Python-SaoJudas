{
  "nbformat": 4,
  "nbformat_minor": 0,
  "metadata": {
    "colab": {
      "provenance": [],
      "authorship_tag": "ABX9TyOdFVjaJ1ZtBONA7WlkJvxT",
      "include_colab_link": true
    },
    "kernelspec": {
      "name": "python3",
      "display_name": "Python 3"
    },
    "language_info": {
      "name": "python"
    }
  },
  "cells": [
    {
      "cell_type": "markdown",
      "metadata": {
        "id": "view-in-github",
        "colab_type": "text"
      },
      "source": [
        "<a href=\"https://colab.research.google.com/github/ThiagoCruz00/Python-SaoJudas/blob/main/Aula06_03.ipynb\" target=\"_parent\"><img src=\"https://colab.research.google.com/assets/colab-badge.svg\" alt=\"Open In Colab\"/></a>"
      ]
    },
    {
      "cell_type": "code",
      "execution_count": null,
      "metadata": {
        "colab": {
          "base_uri": "https://localhost:8080/"
        },
        "id": "HQi3t82jyj8f",
        "outputId": "94ce51de-2e1d-4f91-f415-4e87127ac879"
      },
      "outputs": [
        {
          "output_type": "stream",
          "name": "stdout",
          "text": [
            "Digite o nome do produto: Macaco\n",
            "Digite a quantidade do produto: \n",
            "50\n",
            "\n",
            " Adicionado com sucesso:\n",
            "Macaco: 50\n"
          ]
        }
      ],
      "source": [
        "dici = {}\n",
        "\n",
        "def adicione_dic(nome, qtde):\n",
        "    if nome in dici:\n",
        "        dici[nome] += qtde\n",
        "    else:\n",
        "        dici[nome] = qtde\n",
        "\n",
        "nome = input(\"Digite o nome do produto: \")\n",
        "qtde = int(input(\"Digite a quantidade do produto: \\n\"))\n",
        "\n",
        "adicione_dic(nome, qtde)\n",
        "\n",
        "for chave, valor in dici.items():\n",
        "    print(\"\\nAdicionado com sucesso:\")\n",
        "    print(f\"{chave}: {valor}\")"
      ]
    },
    {
      "cell_type": "code",
      "source": [
        "armazem = {}\n",
        "\n",
        "def adicionar_armazem(nome,qtde):\n",
        "    if nome in armazem:\n",
        "        armazem[nome] += qtde\n",
        "    else:\n",
        "        armazem[nome] = qtde\n",
        "\n",
        "while True:\n",
        "    print(\"\\nOpções:\")\n",
        "    print(\"1 Adicionar produto\")\n",
        "    print(\"2 Verificar estoque\")\n",
        "    print(\"3 Sair\")\n",
        "\n",
        "    opcoes = input(\"Escolha uma opção: (1 , 2 , 3) \")\n",
        "\n",
        "    if opcoes == '1':\n",
        "        nome = input(\"Qual o nome do produto: \")\n",
        "\n",
        "        while True:\n",
        "                try:\n",
        "                    qtde = int(input(\"Qual a quantidade em tonelada: \"))\n",
        "                    break\n",
        "                except ValueError:\n",
        "                    print(\"Por favor, digite um número inteiro válido.\")\n",
        "\n",
        "        adicionar_armazem(nome,qtde)\n",
        "        print(f\"Produto {nome} adicionado com {qtde} tons com sucesso\")\n",
        "\n",
        "    elif opcoes == \"2\":\n",
        "        if not armazem:\n",
        "            print(\"O armazém está vazio.\")\n",
        "        else:\n",
        "            print(\"Estoque do armazém:\")\n",
        "            for nome, qtde in armazem.items():\n",
        "                print(f\"{nome}: {qtde} ton/tons\")\n",
        "\n",
        "    elif opcoes == \"3\":\n",
        "        print(\"Saindo do programa.\")\n",
        "        break\n",
        "    else:\n",
        "        print(\"Opção inválida. Por favor, escolha uma opção válida.\")"
      ],
      "metadata": {
        "id": "dIuiiJv727qR"
      },
      "execution_count": null,
      "outputs": []
    }
  ]
}