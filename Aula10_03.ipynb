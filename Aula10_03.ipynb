{
  "nbformat": 4,
  "nbformat_minor": 0,
  "metadata": {
    "colab": {
      "provenance": [],
      "authorship_tag": "ABX9TyOpPUDe/qFxIy3SpaqnlWsF",
      "include_colab_link": true
    },
    "kernelspec": {
      "name": "python3",
      "display_name": "Python 3"
    },
    "language_info": {
      "name": "python"
    }
  },
  "cells": [
    {
      "cell_type": "markdown",
      "metadata": {
        "id": "view-in-github",
        "colab_type": "text"
      },
      "source": [
        "<a href=\"https://colab.research.google.com/github/ThiagoCruz00/Python-SaoJudas/blob/1%C2%B0Semestre/Aula10_03.ipynb\" target=\"_parent\"><img src=\"https://colab.research.google.com/assets/colab-badge.svg\" alt=\"Open In Colab\"/></a>"
      ]
    },
    {
      "cell_type": "code",
      "execution_count": 2,
      "metadata": {
        "colab": {
          "base_uri": "https://localhost:8080/"
        },
        "id": "4RViqG0LPn3S",
        "outputId": "aaeabcca-4e27-4a04-e036-0eab9fa99e22"
      },
      "outputs": [
        {
          "output_type": "stream",
          "name": "stdout",
          "text": [
            "Digite um número: 0\n",
            "Digite outro número: 43\n",
            "Não é possível dividir por zero\n",
            "O resultado é -> 0.0\n"
          ]
        }
      ],
      "source": [
        "num1 = float(input(\"Digite um número: \"))\n",
        "num2 = float(input(\"Digite outro número: \"))\n",
        "\n",
        "divisao = num1 / num2\n",
        "\n",
        "print(f\"O resultado é -> {divisao}\")"
      ]
    },
    {
      "cell_type": "code",
      "source": [
        "a = 7 < 3\n",
        "b = 5 > 2\n",
        "\n",
        "print (a and b)  # Em Java (a && b)\n",
        "\n",
        "print(a or b) # Em Java (a || b)"
      ],
      "metadata": {
        "colab": {
          "base_uri": "https://localhost:8080/"
        },
        "id": "xNZ4CJXJgNB4",
        "outputId": "52f04f0b-9a81-4296-d702-b57a5bc3da49"
      },
      "execution_count": 3,
      "outputs": [
        {
          "output_type": "stream",
          "name": "stdout",
          "text": [
            "False\n",
            "True\n"
          ]
        }
      ]
    },
    {
      "cell_type": "code",
      "source": [
        "import random\n",
        "\n",
        "numero_secreto = random.randint(1, 10000)\n",
        "\n",
        "tentativas = 0\n",
        "acertou = False\n",
        "\n",
        "print(\"🎯 Bem-vindo ao jogo de adivinhação!\")\n",
        "print(\"Tente adivinhar o número entre 1 e 10000.\")\n",
        "\n",
        "while not acertou:\n",
        "    tentativa = input(\"Digite seu palpite: \")\n",
        "    tentativas += 1\n",
        "\n",
        "    if not tentativa.isdigit():\n",
        "        print(\"❌ Entrada inválida! Digite apenas números.\")\n",
        "        continue\n",
        "\n",
        "    tentativa = int(tentativa)\n",
        "\n",
        "    if tentativa < numero_secreto:\n",
        "        print(\"🔼 Tente um número maior!\")\n",
        "    elif tentativa > numero_secreto:\n",
        "        print(\"🔽 Tente um número menor!\")\n",
        "    else:\n",
        "        print(f\"🎉 Parabéns! Você acertou o número {numero_secreto} em {tentativas} tentativas.\")\n",
        "        acertou = True"
      ],
      "metadata": {
        "colab": {
          "base_uri": "https://localhost:8080/"
        },
        "id": "FESDXEwKhXWI",
        "outputId": "18f8bf6f-08b6-483a-cdb1-bf316d8450f2"
      },
      "execution_count": 37,
      "outputs": [
        {
          "output_type": "stream",
          "name": "stdout",
          "text": [
            "🎯 Bem-vindo ao jogo de adivinhação!\n",
            "Tente adivinhar o número entre 1 e 10000.\n",
            "Digite seu palpite: 10\n",
            "🔼 Tente um número maior!\n",
            "Digite seu palpite: 500\n",
            "🔼 Tente um número maior!\n",
            "Digite seu palpite: 5000\n",
            "🔼 Tente um número maior!\n",
            "Digite seu palpite: 8000\n",
            "🔼 Tente um número maior!\n",
            "Digite seu palpite: 90000\n",
            "🔽 Tente um número menor!\n",
            "Digite seu palpite: 9000\n",
            "🔽 Tente um número menor!\n",
            "Digite seu palpite: 8500\n",
            "🔽 Tente um número menor!\n",
            "Digite seu palpite: 8200\n",
            "🔽 Tente um número menor!\n",
            "Digite seu palpite: 8100\n",
            "🔼 Tente um número maior!\n",
            "Digite seu palpite: 8150\n",
            "🔽 Tente um número menor!\n",
            "Digite seu palpite: 8130\n",
            "🔼 Tente um número maior!\n",
            "Digite seu palpite: 8138\n",
            "🔽 Tente um número menor!\n",
            "Digite seu palpite: 8135\n",
            "🔽 Tente um número menor!\n",
            "Digite seu palpite: 8134\n",
            "🔽 Tente um número menor!\n",
            "Digite seu palpite: 8133\n",
            "🔽 Tente um número menor!\n",
            "Digite seu palpite: 8132\n",
            "🔽 Tente um número menor!\n",
            "Digite seu palpite: 8131\n",
            "🎉 Parabéns! Você acertou o número 8131 em 17 tentativas.\n"
          ]
        }
      ]
    }
  ]
}